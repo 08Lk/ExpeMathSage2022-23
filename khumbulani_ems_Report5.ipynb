{
 "cells": [
  {
   "cell_type": "markdown",
   "id": "588c4ff3",
   "metadata": {},
   "source": [
    "# khumbulani_ems_Report5\n",
    "https://files.slack.com/files-pri/T046YM7MDED-F047VD80BPX/day6.png\n",
    "\n",
    "1.Which positive integers can be written as a sum of squares of its factors?\n",
    "\n",
    "Answer:\n",
    "\n",
    "We have so many, but I will mention a few, $2,8,18,20$. The code below show more.\n",
    "\n",
    "\n",
    "2.Can there be a formula of expressing n as the sum of two positive square numbers?\n",
    "\n",
    "Answer:\n",
    "\n",
    "Yes, which is $n = a^2 + b^2$.\n",
    "\n",
    "\n",
    "\n",
    "3.Which numbers can be written as a sum of squares of two prime numbers?\n",
    "\n",
    "Answer:\n",
    "\n",
    "I have created a code that generates these numbers, but I will mention a few, $2^2 + 3^2 = 13$, $2^2 + 5^2 = 29$, $3^2 + 5^2 = 34$ and $5^2 + 7^2 = 74$.\n",
    "\n",
    "\n",
    "\n",
    "\n",
    "\n",
    "\n",
    "4.These numbers that can be written as a sum of two squares,are they odd or even?\n",
    "\n",
    "Answer:\n",
    "\n",
    "The numbers are either even or odd, since we do not have any clear pattern. We can only show a  few exapmles,\n",
    "\n",
    "$1^2 + 1^2 = 2$, $1^2 + 2^2 = 5$, $2^2 + 2^2 = 8$ and $3^2 + 2^2 = 13$.\n",
    "\n",
    "\n",
    "\n",
    "5.Is the sum of squares even or odd?\n",
    "\n",
    "Answer:\n",
    "\n",
    "The sum of squares are either even or odd, we do not have a clear pattern of the $n$ values.\n",
    "\n",
    "6.Given $a$ and $b$ are prime, is the sum of thier squares,$a^2 + b^2$ prime?\n",
    "\n",
    "Answer:\n",
    "\n",
    "Sometimes the sum is prime sometimes is not prime.\n",
    "\n",
    "For instance, $13 = 2^2 + 3^2$, $34 = 3^2 + 5^2$ and $53 = 2^2 + 7^2$\n",
    "\n",
    "\n",
    "7.Can the square root of numbers be written as in any other form aside from $x^2 + 0^2$?\n",
    "\n",
    "Answer:\n",
    "\n",
    "Yes, the square root of numbers can be written in any other form aside from $x^2 + 0^2$. For instance $100 = 8^2 + 6^2$ and $=10^2 +0^2$.\n",
    "\n",
    "\n",
    "\n",
    "8.Is there more than one way to get n,and if they is,what's the relationship between the $a,b$ and $n$?\n",
    "\n",
    "Answer:\n",
    "\n",
    "We can express $n$ using the lattice points on a circle,where a and b are the lattice points on the circle, where n is the radius squared.\n",
    "\n",
    "\n",
    "\n",
    "\n",
    "\n",
    "\n"
   ]
  },
  {
   "cell_type": "code",
   "execution_count": null,
   "id": "6dc26a0a",
   "metadata": {},
   "outputs": [],
   "source": []
  },
  {
   "cell_type": "markdown",
   "id": "5059c248",
   "metadata": {},
   "source": [
    "# This code is for Q1"
   ]
  },
  {
   "cell_type": "code",
   "execution_count": 10,
   "id": "ec0458d9",
   "metadata": {},
   "outputs": [
    {
     "name": "stdout",
     "output_type": "stream",
     "text": [
      "n=100\n",
      "{2: [(1, 1)], 8: [(2, 2)], 18: [(3, 3)], 20: [(2, 4), (4, 2)], 32: [(4, 4)], 50: [(5, 5)], 72: [(6, 6)], 80: [(4, 8), (8, 4)], 90: [(3, 9), (9, 3)], 98: [(7, 7)]}\n"
     ]
    }
   ],
   "source": [
    "high_numb = int(input(\"n=\"))\n",
    "\n",
    "\n",
    "dict_factor = {}\n",
    "\n",
    "\n",
    "number = 1\n",
    "\n",
    "\n",
    "while number <= high_numb:\n",
    "    \n",
    "    empty_list = []\n",
    "    for x in range(1,number+1):\n",
    "        for y in range(1,number+1):\n",
    "            if number == (x**2) + (y**2):\n",
    "                try:\n",
    "                    if number % x == 0 and number % y == 0:\n",
    "                        empty_list.append((x,y))\n",
    "                        dict_factor[number] = empty_list\n",
    "                except:\n",
    "                    print(\"0 is not a factor\",number)\n",
    "                    \n",
    "    number += 1\n",
    "print(dict_factor)"
   ]
  },
  {
   "cell_type": "code",
   "execution_count": null,
   "id": "609d07f1",
   "metadata": {},
   "outputs": [],
   "source": []
  },
  {
   "cell_type": "code",
   "execution_count": 101,
   "id": "19d8952a",
   "metadata": {},
   "outputs": [
    {
     "name": "stdout",
     "output_type": "stream",
     "text": [
      "keys: dict_keys([2, 5, 8, 10, 13, 17, 18, 20, 25, 26, 29, 32, 34, 37, 40, 41, 45, 50, 52, 53, 58, 61, 65, 68, 72, 73, 74, 80, 82, 85, 89, 90, 97, 98, 100])\n",
      "values: dict_values([(1, 1), (4, 1), (4, 4), (9, 1), (9, 4), (16, 1), (9, 9), (16, 4), (16, 9), (25, 1), (25, 4), (16, 16), (25, 9), (36, 1), (36, 4), (25, 16), (36, 9), (49, 1), (36, 16), (49, 4), (49, 9), (36, 25), (64, 1), (64, 4), (36, 36), (64, 9), (49, 25), (64, 16), (81, 1), (81, 4), (64, 25), (81, 9), (81, 16), (49, 49), (64, 36)])\n"
     ]
    }
   ],
   "source": [
    "import math as m\n",
    "L1 = []\n",
    "for i in range(1,11):\n",
    "    perfect_square = i*i\n",
    "    L1.append(perfect_square)\n",
    "#print(L1)\n",
    "dict = {}\n",
    "n = 1\n",
    "L2 = []\n",
    "while n <= 100:\n",
    "    for i in L1:\n",
    "        if i < n:\n",
    "            L2.append(i)\n",
    "    for a in L2:\n",
    "        for b in L2:\n",
    "            if (a+b) == n:\n",
    "                dict[n] = (a,b)\n",
    "                \n",
    "    L2 = []\n",
    "    n += 1\n",
    "keys = dict.keys()\n",
    "values = dict.values()\n",
    "print(\"keys:\", str(keys))\n",
    "print(\"values:\", str(values))\n",
    "#print(*dict) # keys\n",
    "L1 = [i for i in keys]\n",
    "L2 = [j for j in values]\n",
    "\n",
    "#print(list(divisors(L1[0])))\n",
    "#list(divisors(L2))\n",
    "\n",
    "#print('list_keys',L1,\"    \\n\",'list_values',L2)\n",
    "#print(list(L2[0]))"
   ]
  },
  {
   "cell_type": "code",
   "execution_count": null,
   "id": "1ba9efa0",
   "metadata": {},
   "outputs": [],
   "source": []
  },
  {
   "cell_type": "code",
   "execution_count": null,
   "id": "b7d083f9",
   "metadata": {},
   "outputs": [],
   "source": []
  },
  {
   "cell_type": "markdown",
   "id": "a21b642e",
   "metadata": {},
   "source": [
    "# Question 3\n",
    "The following code is for question 3"
   ]
  },
  {
   "cell_type": "code",
   "execution_count": 21,
   "id": "887ae796",
   "metadata": {},
   "outputs": [
    {
     "name": "stdout",
     "output_type": "stream",
     "text": [
      "{2: [8, 13, 29, 53], 3: [13, 18, 34, 58], 5: [29, 34, 50, 74], 7: [53, 58, 74, 98]}\n"
     ]
    }
   ],
   "source": [
    "dict = {}\n",
    "\n",
    "for i in range(10):\n",
    "    L1 = []\n",
    "    for j in range(10):\n",
    "        if  is_prime(i) and is_prime(j):\n",
    "            n = i**2 + j**2\n",
    "            L1.append(n)\n",
    "            dict[i] = L1\n",
    "        else:\n",
    "            continue\n",
    "print(dict)"
   ]
  },
  {
   "cell_type": "code",
   "execution_count": null,
   "id": "49a88dd5",
   "metadata": {},
   "outputs": [],
   "source": []
  },
  {
   "cell_type": "code",
   "execution_count": 23,
   "id": "b6779756",
   "metadata": {},
   "outputs": [
    {
     "name": "stdout",
     "output_type": "stream",
     "text": [
      "{'1': [(0, 1), (1, 0)], '2': [(1, 1)], '4': [(0, 2), (2, 0)], '5': [(1, 2), (2, 1)], '8': [(2, 2)], '9': [(0, 3), (3, 0)], '10': [(1, 3), (3, 1)], '13': [(2, 3), (3, 2)], '16': [(0, 4), (4, 0)], '17': [(1, 4), (4, 1)], '18': [(3, 3)], '20': [(2, 4), (4, 2)], '25': [(0, 5), (3, 4), (4, 3), (5, 0)], '26': [(1, 5), (5, 1)], '29': [(2, 5), (5, 2)], '32': [(4, 4)], '34': [(3, 5), (5, 3)], '36': [(0, 6), (6, 0)], '37': [(1, 6), (6, 1)], '40': [(2, 6), (6, 2)], '41': [(4, 5), (5, 4)], '45': [(3, 6), (6, 3)], '49': [(0, 7), (7, 0)], '50': [(1, 7), (5, 5), (7, 1)], '52': [(4, 6), (6, 4)], '53': [(2, 7), (7, 2)], '58': [(3, 7), (7, 3)], '61': [(5, 6), (6, 5)], '64': [(0, 8), (8, 0)], '65': [(1, 8), (4, 7), (7, 4), (8, 1)], '68': [(2, 8), (8, 2)], '72': [(6, 6)], '73': [(3, 8), (8, 3)], '74': [(5, 7), (7, 5)], '80': [(4, 8), (8, 4)], '81': [(0, 9), (9, 0)], '82': [(1, 9), (9, 1)], '85': [(2, 9), (6, 7), (7, 6), (9, 2)], '89': [(5, 8), (8, 5)], '90': [(3, 9), (9, 3)], '97': [(4, 9), (9, 4)], '98': [(7, 7)], '100': [(0, 10), (6, 8), (8, 6), (10, 0)]}\n",
      "{'1': 'odd', '2': 'even', '4': 'even', '5': 'odd', '8': 'even', '9': 'odd', '10': 'even', '13': 'odd', '16': 'even', '17': 'odd', '18': 'even', '20': 'even', '25': 'odd', '26': 'even', '29': 'odd', '32': 'even', '34': 'even', '36': 'even', '37': 'odd', '40': 'even', '41': 'odd', '45': 'odd', '49': 'odd', '50': 'even', '52': 'even', '53': 'odd', '58': 'even', '61': 'odd', '64': 'even', '65': 'odd', '68': 'even', '72': 'even', '73': 'odd', '74': 'even', '80': 'even', '81': 'odd', '82': 'even', '85': 'odd', '89': 'odd', '90': 'even', '97': 'odd', '98': 'even', '100': 'even'}\n",
      "{'8': [(2, 2)], '13': [(2, 3), (3, 2)], '18': [(3, 3)], '29': [(2, 5), (5, 2)], '34': [(3, 5), (5, 3)], '50': [(5, 5)], '53': [(2, 7), (7, 2)], '58': [(3, 7), (7, 3)], '74': [(5, 7), (7, 5)], '98': [(7, 7)]}\n"
     ]
    }
   ],
   "source": [
    "numb = 1\n",
    "high_limit = 100\n",
    "\n",
    "trial_dict = {}\n",
    "dict_num ={}\n",
    "dict_prime = {}\n",
    "\n",
    "\n",
    "i = 0\n",
    "new_List = []\n",
    "while numb<= high_limit:\n",
    "    List = []\n",
    "    new_List = []\n",
    "    for x in range(0,high_limit+1):\n",
    "        for y in range(0,high_limit+1):\n",
    "            if (x*x + y*y)==numb:\n",
    "                store = (x,y)\n",
    "                List.append(store)\n",
    "                trial_dict[str(numb)] = List\n",
    "                if numb%2 == 0:\n",
    "                    dict_num[str(numb)] = \"even\"\n",
    "                elif numb%2 == 1:\n",
    "                    dict_num[str(numb)] = \"odd\"\n",
    "                if is_prime(x) and is_prime(y):\n",
    "                    prime = (x,y)\n",
    "                    new_List.append(prime)\n",
    "                    dict_prime[str(numb)] = new_List\n",
    "\n",
    "                \n",
    "    numb += 1\n",
    "    \n",
    "print(trial_dict)\n",
    "print(dict_num)\n",
    "print(dict_prime)"
   ]
  },
  {
   "cell_type": "code",
   "execution_count": null,
   "id": "fdd54058",
   "metadata": {},
   "outputs": [],
   "source": []
  }
 ],
 "metadata": {
  "kernelspec": {
   "display_name": "SageMath 9.7",
   "language": "sage",
   "name": "sagemath"
  },
  "language_info": {
   "codemirror_mode": {
    "name": "ipython",
    "version": 3
   },
   "file_extension": ".py",
   "mimetype": "text/x-python",
   "name": "python",
   "nbconvert_exporter": "python",
   "pygments_lexer": "ipython3",
   "version": "3.9.2"
  }
 },
 "nbformat": 4,
 "nbformat_minor": 5
}
