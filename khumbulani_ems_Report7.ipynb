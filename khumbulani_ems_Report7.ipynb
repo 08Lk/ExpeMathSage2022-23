{
 "cells": [
  {
   "cell_type": "markdown",
   "id": "a492117c",
   "metadata": {},
   "source": [
    "# Report 7"
   ]
  },
  {
   "cell_type": "markdown",
   "id": "0dc919fd",
   "metadata": {},
   "source": [
    "# Practical 1"
   ]
  },
  {
   "cell_type": "markdown",
   "id": "d66dc09e",
   "metadata": {},
   "source": [
    "# question1\n",
    "\n",
    "$F_{n} = F_{n-1} + F_{n-2}$\n",
    "\n",
    "$F_{0} = 0$\n",
    "\n",
    "$F_{1} = 1$\n",
    "\n",
    "$F_{2} = 1$\n",
    "\n",
    "$F_{3} = F_{2} + F_{1} = 2$\n",
    "\n",
    "$F_{4} = F_{3} + F_{2} = 3$\n",
    "\n",
    "$F_{5} = F_{4} + F_{3} = 5$\n",
    "\n",
    "$F_{6} = F_{5} + F_{4} = 8$\n",
    "\n",
    "$F_{7} = F_{6} + F_{5} = 13$\n",
    "\n",
    "$F_{8} = F_{7} + F_{6} = 21$\n",
    "\n",
    "$F_{9} = F_{8} + F_{7} = 34$\n",
    "\n",
    "$F_{10} = F_{9} + F_{8} = 55$\n",
    "\n",
    "$F_{11} = F_{10} + F_{9} = 89$"
   ]
  },
  {
   "cell_type": "markdown",
   "id": "3bb3fa85",
   "metadata": {},
   "source": [
    "# question 2a\n",
    "\n",
    "Given \n",
    "\n",
    "$G_{n} =\\phi^{n}$  and  $G_{n} = G_{n-1} + G_{n-2}$\n",
    "\n",
    "we have $G_{n} = \\phi^{n-1} + \\phi^{n-2}$\n",
    "\n",
    "which implies that\n",
    "\n",
    "$\\phi^{n} = \\phi^{n-1} + \\phi^{n-2}$\n",
    "\n",
    "$\\phi^{n} = \\dfrac{\\phi^{n}}{\\phi} + \\dfrac{\\phi^n}{\\phi^2}$\n",
    "\n",
    "we then divide by $phi^{n}$ both sides\n",
    "\n",
    "$1 = \\dfrac{1}{\\phi} + \\dfrac{1}{\\phi^2}$\n",
    "\n",
    "which is equal to \n",
    "\n",
    "$\\phi^{2} + \\phi - 1 = 0$\n",
    "\n",
    "We used the very same equation to solve for $\\phi, \\psi$ and $c$.\n"
   ]
  },
  {
   "cell_type": "code",
   "execution_count": 1,
   "id": "e48da7dd",
   "metadata": {},
   "outputs": [
    {
     "data": {
      "text/plain": [
       "[phi == -1/2*sqrt(5) + 1/2, phi == 1/2*sqrt(5) + 1/2]"
      ]
     },
     "execution_count": 1,
     "metadata": {},
     "output_type": "execute_result"
    }
   ],
   "source": [
    "# This code calculates phi\n",
    "phi = var('phi')\n",
    "d = phi**(2) - phi**(1) - 1\n",
    "eqn1 = d ==0\n",
    "\n",
    "solve([eqn1],phi)\n"
   ]
  },
  {
   "cell_type": "code",
   "execution_count": 19,
   "id": "4ede4cc6",
   "metadata": {},
   "outputs": [
    {
     "data": {
      "text/plain": [
       "[psi == -1/2*sqrt(5) + 1/2, psi == 1/2*sqrt(5) + 1/2]"
      ]
     },
     "execution_count": 19,
     "metadata": {},
     "output_type": "execute_result"
    }
   ],
   "source": [
    "# This one solves psi\n",
    "var('psi')\n",
    "\n",
    "eq1 = psi**2-psi==1\n",
    "\n",
    "solve([eq1],psi)"
   ]
  },
  {
   "cell_type": "code",
   "execution_count": 20,
   "id": "24248e20",
   "metadata": {},
   "outputs": [
    {
     "data": {
      "text/plain": [
       "[[phi == -1/2*sqrt(5) + 1/2, psi == 1/2*sqrt(5) + 1/2]]"
      ]
     },
     "execution_count": 20,
     "metadata": {},
     "output_type": "execute_result"
    }
   ],
   "source": [
    "# This one shows phi and psi\n",
    "var('phi psi')\n",
    "eq1 = phi+psi==1\n",
    "\n",
    "eq2 = phi==-1/2*sqrt(5) + 1/2 \n",
    "\n",
    "eq3 = psi==1/2*sqrt(5) + 1/2\n",
    "\n",
    "solve([eq1,eq2,eq3],phi,psi)"
   ]
  },
  {
   "cell_type": "code",
   "execution_count": 21,
   "id": "cb86f56e",
   "metadata": {},
   "outputs": [
    {
     "data": {
      "text/plain": [
       "[[c == -1/5*sqrt(5), phi == -1/2*sqrt(5) + 1/2, psi == 1/2*sqrt(5) + 1/2]]"
      ]
     },
     "execution_count": 21,
     "metadata": {},
     "output_type": "execute_result"
    }
   ],
   "source": [
    "# This one solves c\n",
    "var('c phi psi')\n",
    "eq4 = c*(phi**1 - psi**1)==1\n",
    "\n",
    "eq5 = c*(phi**2 -psi**2)==1\n",
    "\n",
    "eq6 = phi == -1/2*sqrt(5) + 1/2\n",
    "\n",
    "eq7 = psi == 1/2*sqrt(5) + 1/2\n",
    "\n",
    "solve([eq4,eq5,eq6,eq7],c,phi,psi)\n"
   ]
  },
  {
   "cell_type": "code",
   "execution_count": null,
   "id": "670d627c",
   "metadata": {},
   "outputs": [],
   "source": []
  },
  {
   "cell_type": "code",
   "execution_count": null,
   "id": "3d5c6fd8",
   "metadata": {},
   "outputs": [],
   "source": []
  },
  {
   "cell_type": "markdown",
   "id": "749ec0c9",
   "metadata": {},
   "source": [
    "# Practical 2"
   ]
  },
  {
   "cell_type": "code",
   "execution_count": null,
   "id": "9f6665bc",
   "metadata": {},
   "outputs": [],
   "source": []
  },
  {
   "cell_type": "markdown",
   "id": "c90d49dc",
   "metadata": {},
   "source": [
    "# question 1\n",
    "\n",
    "Given $F_{n+1}F_{n-1} - {F_{n}}^2$ \n",
    "\n",
    "$F_{0} = 0$\n",
    "\n",
    "$F_{1} = 1$\n",
    "\n",
    "$F_{2} = 1$\n",
    "\n",
    "$F_{2}F_{0} - {F_{1}}^2 = -1$\n",
    "\n",
    "$F_{3}F_{1} - {F_{2}}^2 = 1$\n",
    "\n",
    "$F_{4}F_{2} - {F_{3}}^2 = -1$\n",
    "\n",
    "$F_{5}F_{3} - {F_{4}}^2 = 1$\n",
    "\n",
    "$F_{6}F_{4} - {F_{5}}^2 = -1$\n",
    "\n",
    "$F_{7}F_{5} - {F_{6}}^2 = 1$\n",
    "\n",
    "$F_{8}F_{6} - {F_{7}}^2 = -1$\n",
    "\n",
    "$F_{9}F_{7} - {F_{8}}^2 = 1$\n",
    "\n",
    "$F_{10}F_{8} - {F_{9}}^2 = -1$\n",
    "\n",
    "$F_{11}F_{9} - {F_{10}}^2 = 1$\n",
    "\n",
    "$F_{12}F_{10} - {F_{11}}^2 = -1$\n",
    "\n"
   ]
  },
  {
   "cell_type": "markdown",
   "id": "dc4ff5d1",
   "metadata": {},
   "source": [
    "# question 2\n",
    "\n",
    "Since the formular always produce $-1$ and $1$ in an alternating way, the general formula is,\n",
    "\n",
    "$F_{n+1}F_{n-1} - {F_{n}}^2 = (-1)^n$ where $n\\geq1$"
   ]
  },
  {
   "cell_type": "code",
   "execution_count": null,
   "id": "bca71ff1",
   "metadata": {},
   "outputs": [],
   "source": [
    "\n"
   ]
  },
  {
   "cell_type": "code",
   "execution_count": null,
   "id": "3a1d221e",
   "metadata": {},
   "outputs": [],
   "source": []
  },
  {
   "cell_type": "code",
   "execution_count": 80,
   "id": "44bbaa92",
   "metadata": {},
   "outputs": [],
   "source": [
    "# This one tries to show the values\n",
    "def fib_num(n):\n",
    "    if n==0:\n",
    "        return 0\n",
    "    elif n==1:\n",
    "        return 1\n",
    "    else:\n",
    "        return fib_num(n-1) + fib_num(n-2)\n",
    "    "
   ]
  },
  {
   "cell_type": "code",
   "execution_count": 81,
   "id": "e6a16aa4",
   "metadata": {},
   "outputs": [
    {
     "name": "stdout",
     "output_type": "stream",
     "text": [
      "Enter the number10\n",
      "n=  1 , -1\n",
      "n=  2 , 1\n",
      "n=  3 , -1\n",
      "n=  4 , 1\n",
      "n=  5 , -1\n",
      "n=  6 , 1\n",
      "n=  7 , -1\n",
      "n=  8 , 1\n",
      "n=  9 , -1\n",
      "n=  10 , 1\n"
     ]
    }
   ],
   "source": [
    "Z = int(input('Enter the number'))\n",
    "for i in range(1,Z+1):\n",
    "    cassini_identity = fib_num(i-1)*fib_num(i+1)-fib_num(i)**2\n",
    "    print('n= ', i,',' , cassini_identity)"
   ]
  },
  {
   "cell_type": "code",
   "execution_count": null,
   "id": "0b4aaa21",
   "metadata": {},
   "outputs": [],
   "source": []
  },
  {
   "cell_type": "markdown",
   "id": "a06f5cf0",
   "metadata": {},
   "source": [
    "# prove by induction\n",
    "\n",
    "\n",
    "$F_{n+1}F_{n-1} - F_{n}^2 = (-1)^n$\n",
    "\n",
    "From fibonacci we have $F_{i+1} = F_{i} + F_{i-1}$\n",
    "\n",
    "Let $n = m+1$\n",
    "\n",
    "$F_{m+2}F_{m} - F_{m+1}^2 = (F_{m+1} + F_{m})F_{m} - (F_{m} + F_{m-1})^2$\n",
    "\n",
    "$F_{m+1}F_{m} +F_{m}^2 - F_{m}^2 - 2F_{m}F_{m-1} - F_{m-1}^2$\n",
    "\n",
    "$F_{m+1}F_{m} - 2F_{m}F_{m-1} - F_{m-1}^2$\n",
    "\n",
    "$(F_{m} + F_{m-1})F_{m} - 2F_{m}F_{m-1} - F_{m-1}^2$\n",
    "\n",
    "$F_{m}^2 + F_{m}F_{m-1} - 2F_{m}F_{m-1} - F_{m-1}^2$\n",
    "\n",
    "$F_{m}^2 - F_{m}F_{m-1} - F_{m-1}^2$\n",
    "\n",
    "$F_{m}^2 - F_{m-1}(F_{m} + F_{m-1})$\n",
    "\n",
    "$F_{m}^2 -  F_{m-1}F_{m+1}$\n",
    "\n",
    "$F_{m}F_{m+1} - F_{m}^2 = (-1)^{m+1}$\n",
    "\n"
   ]
  },
  {
   "cell_type": "code",
   "execution_count": null,
   "id": "dc18c6bf",
   "metadata": {},
   "outputs": [],
   "source": []
  },
  {
   "cell_type": "code",
   "execution_count": null,
   "id": "a2b9477f",
   "metadata": {},
   "outputs": [],
   "source": []
  },
  {
   "cell_type": "markdown",
   "id": "d1763e36",
   "metadata": {},
   "source": [
    "# Report 8"
   ]
  },
  {
   "cell_type": "markdown",
   "id": "6d735199",
   "metadata": {},
   "source": [
    "# practical 3"
   ]
  },
  {
   "cell_type": "markdown",
   "id": "a27b4b88",
   "metadata": {},
   "source": [
    "$U_{0} = 3/2$        $U_{1} = 5/3$\n",
    "\n",
    "$U_{n} = 1 +  \\dfrac{4(U_{n-2}-1)}{U_{n-1}U_{n-2}}$ for $n \\geq 2 $\n",
    "\n",
    "$U_{2} = 1 +  \\dfrac{4(U_{0}-1)}{U_{1}U_{0}} = 9/5.$\n",
    "\n",
    "$U_{3} = 1 +  \\dfrac{4(U_{1}-1)}{U_{2}U_{1}} = 17/9.$\n",
    "\n",
    "$U_{4} = 1 +  \\dfrac{4(U_{2}-1)}{U_{3}U_{2}} = 33/17.$\n",
    "\n",
    "$U_{5} = 1 +  \\dfrac{4(U_{3}-1)}{U_{4}U_{3}} = 65/33.$\n",
    "\n",
    ".\n",
    "\n",
    ".\n",
    "\n",
    ".\n",
    "\n",
    "\n",
    "From this,we conjecture to be $U_{n} = \\dfrac {2^{n+1} + 1}{2^{n} + 1}$ for $n \\geq 0.$\n",
    "\n",
    "$U_{n} = 1 +  \\dfrac{4(U_{n-2}-1)}{U_{n-1}U_{n-2}}$ \n",
    "\n",
    "# Proof using Recursion\n",
    "\n",
    "$U_{n+1} = 1 +  \\dfrac{4(U_{n-1}-1)}{U_{n}U_{n-1}}$ \n",
    "\n",
    "From the conjecture we have \n",
    "\n",
    "$U_{n+1} = \\dfrac {2^{n+2} + 1}{2^{n+1} + 1}$ and $U_{n-1} = \\dfrac {2^{n} + 1}{2^{n-1} + 1}$\n",
    "\n",
    "Then, using the conjecture,\n",
    "\n",
    "$U_{n+1} = 1 +  \\dfrac{4(U_{n-1}-1)}{U_{n}U_{n-1}}$ \n",
    "\n",
    "$U_{n+1} = 1 +  \\dfrac{4\\dfrac{2^{n} + 1}{2^{n-1} + 1}-1}{\\dfrac{2^{n+1} + 1}{2^{n} + 1}\\dfrac{2^{n} + 1}{2^{n-1} + 1}}$ \n",
    "\n",
    "$1 + \\dfrac{4(2^{n} - 2^{n-1})}{2^{n+1}+1}$\n",
    "\n",
    "$1 + \\dfrac{2^2(2^{n} - 2^{n-1})}{2^{n+1}+1}$\n",
    "\n",
    "$1 + \\dfrac{(2^{n+2} - 2^{n+1})}{2^{n+1}+1}$\n",
    "\n",
    "$\\dfrac{2^{n+1}+1}{2^{n+1}+1}+ \\dfrac{(2^{n+2} - 2^{n+1})}{2^{n+1}+1}$\n",
    "\n",
    "$\\dfrac{2^{n+2} + 1}{2^{n+1}+1}$\n",
    "\n",
    "$Proved!!!$\n"
   ]
  },
  {
   "cell_type": "code",
   "execution_count": null,
   "id": "cc7cf122",
   "metadata": {},
   "outputs": [],
   "source": []
  },
  {
   "cell_type": "code",
   "execution_count": null,
   "id": "7f0e5344",
   "metadata": {},
   "outputs": [],
   "source": []
  },
  {
   "cell_type": "markdown",
   "id": "79a0c6af",
   "metadata": {},
   "source": [
    "#### Exploration 10 <a class=\"anchor\" id=\"exploration-10\"></a> \n",
    "\n",
    "The question to explore is: \n",
    "\n",
    " * _Can even/odd numbers modulo 3, modulo 4, modulo 5, etc., be written as a sum of two squares and if so, do they follow some underlying pattern?_"
   ]
  },
  {
   "cell_type": "code",
   "execution_count": 41,
   "id": "ae6ec5c2",
   "metadata": {},
   "outputs": [
    {
     "name": "stdout",
     "output_type": "stream",
     "text": [
      "Input an iterator:\n",
      "10\n",
      "Input a divisor:\n",
      "5\n",
      "numbers that are divisible: {'L': [0, 10, 50, 20, 40, 10, 90, 20, 80, 50, 40, 100, 50, 130, 80, 100, 90, 130]}\n"
     ]
    }
   ],
   "source": [
    "# This code checks for the even numbers\n",
    "\n",
    "n = int(input('Input an iterator:\\n')) \n",
    "k = int(input('Input a divisor:\\n')) # k is the divisor\n",
    "L = []\n",
    "dicti = {}\n",
    "L1 =[]\n",
    "di = {}\n",
    "L2 = []\n",
    "D2 ={}\n",
    "#f = x**2 + y**2 \n",
    "for x in range(n):\n",
    "    for y in range(n):\n",
    "        f = x**2 + y**2  # f is the sum of squares\n",
    "        L2.append(f)\n",
    "        D2['L2'] = L2\n",
    "        if f%2==0:             # for even numbers\n",
    "            if mod(f,k) == 0:\n",
    "                #print(f,'is divisible by',k)\n",
    "                L.append(f)\n",
    "                dicti['L'] = L\n",
    "            else:\n",
    "                #continue\n",
    "                L1.append(f)\n",
    "                #sorted(L1)\n",
    "                di['L1'] = L1\n",
    "                #print('rem is',mod(f,k))\n",
    "        else:\n",
    "            continue\n",
    "#print('All the sum of squares:',D2)\n",
    "print('numbers that are divisible:',dicti)\n",
    "#print('numberss that are not divisible:',di)"
   ]
  },
  {
   "cell_type": "code",
   "execution_count": null,
   "id": "44cef1fd",
   "metadata": {},
   "outputs": [],
   "source": []
  },
  {
   "cell_type": "markdown",
   "id": "f3b74a2f",
   "metadata": {},
   "source": [
    "# For even numbers\n",
    "\n",
    "mod $(f,3)$ is a list of numbers that are only even given by $18n$ where $n\\geq0$, not for all $n$.\n",
    "\n",
    "mod $(f,3)$ is a list of numbers that are only even given by $4n$ where $n\\geq0$, not for all $n$.\n",
    "\n",
    "mod $(f,3)$ is a list of numbers that are only even given by $10n$ where $n\\geq0$, not for all $n$.\n",
    "\n"
   ]
  },
  {
   "cell_type": "code",
   "execution_count": 47,
   "id": "6acacac6",
   "metadata": {},
   "outputs": [
    {
     "name": "stdout",
     "output_type": "stream",
     "text": [
      "Input an iterator:\n",
      "10\n",
      "Input a divisor:\n",
      "5\n",
      "numbers that are divisible: {'L': [25, 5, 65, 5, 85, 25, 45, 25, 65, 25, 45, 85, 65, 85, 65, 145, 85, 145]}\n"
     ]
    }
   ],
   "source": [
    "# This code checks for the odd numbers\n",
    "\n",
    "n = int(input('Input an iterator:\\n')) \n",
    "k = int(input('Input a divisor:\\n')) # k is the divisor\n",
    "L = []\n",
    "dicti = {}\n",
    "L1 =[]\n",
    "di = {}\n",
    "L2 = []\n",
    "D2 ={}\n",
    "#f = x**2 + y**2 \n",
    "for x in range(n):\n",
    "    for y in range(n):\n",
    "        f = x**2 + y**2  # f is the sum of squares\n",
    "        L2.append(f)\n",
    "        D2['L2'] = L2\n",
    "        if f%2==1:               # for even numbers\n",
    "            if mod(f,k) == 0:\n",
    "                #print(f,'is divisible by',k)\n",
    "                L.append(f)\n",
    "                dicti['L'] = L\n",
    "            else:\n",
    "                #continue\n",
    "                L1.append(f)\n",
    "                #sorted(L1)\n",
    "                di['L1'] = L1\n",
    "                #print('rem is',mod(f,k))\n",
    "        else:\n",
    "            continue\n",
    "#print('All the sum of squares:',D2)\n",
    "print('numbers that are divisible:',dicti)\n",
    "#print('numberss that are not divisible:',di)"
   ]
  },
  {
   "cell_type": "code",
   "execution_count": null,
   "id": "7ed4754c",
   "metadata": {},
   "outputs": [],
   "source": []
  },
  {
   "cell_type": "markdown",
   "id": "f9104bf2",
   "metadata": {},
   "source": [
    "# For odd numbers\n",
    "\n",
    "mod $(f,3)$ is a list of numbers that are only odd given by $9n$ where $n\\geq0$, not for all $n$.\n",
    "\n",
    "mod $(f,3)$ has no numbers in the list.\n",
    "\n",
    "mod $(f,3)$ is a list of numbers that are only odd given by $5n$ where $n\\geq0$, not for all $n$.\n"
   ]
  },
  {
   "cell_type": "code",
   "execution_count": null,
   "id": "b50b1b4c",
   "metadata": {},
   "outputs": [],
   "source": []
  },
  {
   "cell_type": "code",
   "execution_count": null,
   "id": "2dbd7761",
   "metadata": {},
   "outputs": [],
   "source": []
  }
 ],
 "metadata": {
  "kernelspec": {
   "display_name": "SageMath 9.7",
   "language": "sage",
   "name": "sagemath"
  },
  "language_info": {
   "codemirror_mode": {
    "name": "ipython",
    "version": 3
   },
   "file_extension": ".py",
   "mimetype": "text/x-python",
   "name": "python",
   "nbconvert_exporter": "python",
   "pygments_lexer": "ipython3",
   "version": "3.9.2"
  }
 },
 "nbformat": 4,
 "nbformat_minor": 5
}
