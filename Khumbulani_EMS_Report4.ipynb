{
 "cells": [
  {
   "cell_type": "code",
   "execution_count": null,
   "id": "dc0eb35d",
   "metadata": {},
   "outputs": [],
   "source": []
  },
  {
   "cell_type": "markdown",
   "id": "85deb626",
   "metadata": {},
   "source": [
    "# Report 4_ 24 Oct 2022\n",
    "\n",
    "We tried to find the code for calculating the gcd for two numbers as follows."
   ]
  },
  {
   "cell_type": "code",
   "execution_count": 90,
   "id": "d4fcd4ba",
   "metadata": {},
   "outputs": [
    {
     "name": "stdout",
     "output_type": "stream",
     "text": [
      "a:3\n",
      "b:6\n"
     ]
    },
    {
     "data": {
      "text/plain": [
       "3"
      ]
     },
     "execution_count": 90,
     "metadata": {},
     "output_type": "execute_result"
    }
   ],
   "source": [
    "a = int(input('a:'))\n",
    "b = int(input('b:'))\n",
    "\n",
    "gcd(a,b)"
   ]
  },
  {
   "cell_type": "markdown",
   "id": "d9b475c6",
   "metadata": {},
   "source": [
    "# The gcd for three numbers"
   ]
  },
  {
   "cell_type": "code",
   "execution_count": 89,
   "id": "1f257e2e",
   "metadata": {},
   "outputs": [
    {
     "name": "stdout",
     "output_type": "stream",
     "text": [
      "a:3\n",
      "b:57\n",
      "c:6\n",
      "3\n"
     ]
    }
   ],
   "source": [
    "a = int(input('a:'))\n",
    "b = int(input('b:'))\n",
    "c = int(input('c:'))\n",
    "\n",
    "print(gcd(a,gcd(b,c)))\n"
   ]
  },
  {
   "cell_type": "markdown",
   "id": "8863bb5d",
   "metadata": {},
   "source": [
    "# The gcd for two numbers\n"
   ]
  },
  {
   "cell_type": "code",
   "execution_count": 91,
   "id": "16af27e2",
   "metadata": {},
   "outputs": [
    {
     "data": {
      "text/plain": [
       "10"
      ]
     },
     "execution_count": 91,
     "metadata": {},
     "output_type": "execute_result"
    }
   ],
   "source": [
    "import numpy as np\n",
    "def gcd(a,b):\n",
    "    while a%b != 0:\n",
    "        if a > b:\n",
    "            a,b=b,a\n",
    "            return np.gcd(a,b%a)\n",
    "        elif b > a:        \n",
    "            a,b = b,a\n",
    "            return np.gcd(b,a%b)\n",
    "        else:\n",
    "            return np.gcd(a,b)    \n",
    "gcd(130,70)\n"
   ]
  },
  {
   "cell_type": "markdown",
   "id": "1c29de49",
   "metadata": {},
   "source": [
    "# For the sum of squared numbers\n",
    "\n"
   ]
  },
  {
   "cell_type": "code",
   "execution_count": 128,
   "id": "3fcdd50d",
   "metadata": {},
   "outputs": [
    {
     "name": "stdout",
     "output_type": "stream",
     "text": [
      "[1, 4, 9, 16, 25, 36, 49, 64, 81, 100]\n",
      "{2: (1, 1), 5: (4, 1), 8: (4, 4), 10: (9, 1), 13: (9, 4), 17: (16, 1), 18: (9, 9), 20: (16, 4), 25: (16, 9), 26: (25, 1), 29: (25, 4), 32: (16, 16), 34: (25, 9), 37: (36, 1), 40: (36, 4), 41: (25, 16), 45: (36, 9), 50: (49, 1), 52: (36, 16), 53: (49, 4), 58: (49, 9), 61: (36, 25), 65: (64, 1), 68: (64, 4), 72: (36, 36), 73: (64, 9), 74: (49, 25), 80: (64, 16), 82: (81, 1), 85: (81, 4), 89: (64, 25), 90: (81, 9), 97: (81, 16), 98: (49, 49), 100: (64, 36)}\n"
     ]
    }
   ],
   "source": [
    "import math as m\n",
    "L1 = []\n",
    "for i in range(1,11):\n",
    "    perfect_square = i*i\n",
    "    L1.append(perfect_square)\n",
    "print(L1)\n",
    "dict = {}\n",
    "n = 1\n",
    "L2 = []\n",
    "while n <= 100:\n",
    "    for i in L1:\n",
    "        if i < n:\n",
    "            L2.append(i)\n",
    "    for a in L2:\n",
    "        for b in L2:\n",
    "            if (a+b) == n:\n",
    "                dict[n] = (a,b)\n",
    "                \n",
    "    L2 = []\n",
    "    n += 1\n",
    "print(dict)"
   ]
  },
  {
   "cell_type": "markdown",
   "id": "4f2b2b80",
   "metadata": {},
   "source": [
    "For $a^2 + b^2 = n$ we tried a few examples.\n",
    "\n",
    "$1^2 + 0^2 = 1$\n",
    "\n",
    "$1^2 + 1^2 = 2$\n",
    "\n",
    "$1^2 + 2^2 = 5$\n",
    "\n",
    "$2^2 + 2^2 = 8$\n",
    "\n",
    "$3^2 + 0^2 = 9$\n",
    "\n",
    "$3^2 + 1^2 = 10$\n",
    "\n",
    "$3^2 + 2^2 = 13$\n",
    "\n",
    "$3^2 + 3^2 = 18$\n",
    "\n",
    "$4^2 + 0^2 = 16$\n",
    "\n",
    "$4^2 + 1^2 = 17$\n",
    "\n",
    "$4^2 + 2^2 = 20$\n",
    "\n",
    "$4^2 + 3^2 = 25$\n",
    "\n",
    "$4^2 + 4^2 = 32$\n",
    "\n",
    "$5^2 + 0^2 = 25$\n",
    "\n",
    "$5^2 + 1^2 = 26$\n",
    "\n",
    "$5^2 + 2^2 = 29$\n",
    "\n",
    "$5^2 + 3^2 = 34$\n",
    "\n",
    "$5^2 + 4^2 = 45$\n",
    "\n",
    "$5^2 + 5^2 = 50$\n",
    "\n",
    "$6^2 + 0^2 = 36$\n",
    "\n",
    "$6^2 + 1^2 = 38$\n",
    "\n",
    "$6^2 + 2^2 = 40$\n",
    "\n",
    "$6^2 + 3^2 = 45$\n",
    "\n",
    "\n",
    "The sum of squared numbers is given above and we can easily see the ones we cannot get. "
   ]
  },
  {
   "cell_type": "code",
   "execution_count": null,
   "id": "f058d733",
   "metadata": {},
   "outputs": [],
   "source": []
  }
 ],
 "metadata": {
  "kernelspec": {
   "display_name": "SageMath 9.7",
   "language": "sage",
   "name": "sagemath"
  },
  "language_info": {
   "codemirror_mode": {
    "name": "ipython",
    "version": 3
   },
   "file_extension": ".py",
   "mimetype": "text/x-python",
   "name": "python",
   "nbconvert_exporter": "python",
   "pygments_lexer": "ipython3",
   "version": "3.9.2"
  }
 },
 "nbformat": 4,
 "nbformat_minor": 5
}
