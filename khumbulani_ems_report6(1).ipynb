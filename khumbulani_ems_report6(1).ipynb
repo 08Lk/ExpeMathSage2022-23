{
 "cells": [
  {
   "cell_type": "markdown",
   "metadata": {},
   "source": [
    "<img src=\"./images/aims-za-logo.jpeg\" alt=\"drawing\" style=\"width:400px;\"/>\n",
    "<h1 style=\"text-align: center;\"><a title=\"EMS-AIMS-ZA-2022\" href=\"https://course-website\">Experimental Mathematics Using SageMath — AIMS-ZA-2022-23</a></h1>\n",
    "\n",
    "\n",
    "## Instructor: \n",
    "\n",
    "* **Yaé Gaba**"
   ]
  },
  {
   "cell_type": "markdown",
   "metadata": {},
   "source": [
    "## Day 07 — New Experiments: Sum of Squares and Plotting <a class=\"anchor\" id=\"new-experiment-sum-of-squares-and-plotting\"></a>\n",
    "\n",
    "[comment]: <> (<h2 style=\"text-align: left;\">Day 02 — Introduction to <a title=\"SageMath\"href=\"http://www.sagemath.org/\"><em>SageMath</em></a>: A Mathematics Software for All</h2>)\n",
    "\n",
    "\n",
    "\n",
    "\n",
    "The outline of the this notebook is as follows:"
   ]
  },
  {
   "cell_type": "markdown",
   "metadata": {},
   "source": [
    "## Table of Contents: <a class=\"anchor\" id=\"day-06-toc\"></a> \n",
    "[comment]: <> (New Experiment — Sum of Squares)\n",
    "* [ ] [<font color=blue>New Experiment — Sum of Squares </font>](#new-experiment-sum-of-squares)\n",
    "    * [<font color=blue>Exploring Questions</font>](#exploring-questions)\n",
    "       * [<font color=blue>Exploration 1</font>](#exploration-1)\n",
    "       * [<font color=blue>Exploration 2</font>](#exploration-2)\n",
    "       * [<font color=blue>Exploration 3</font>](#exploration-3)\n",
    "       * [<font color=blue>Exploration 4</font>](#exploration-4)\n",
    "       * [<font color=blue>Exploration 5</font>](#exploration-5)\n",
    "       * [<font color=blue>Exploration 6</font>](#exploration-6)\n",
    "       * [<font color=blue>Exploration 7</font>](#exploration-7)\n",
    "       * [<font color=blue>Exploration 8</font>](#exploration-8)\n",
    "       * [<font color=blue>Exploration 9</font>](#exploration-9)\n",
    "    * [<font color=blue>Congruences</font>](#congruences) \n",
    "       * [<font color=blue>Exploration 10</font>](#exploration-10)\n",
    "[comment]: <> (More Plotting and Graphics in Two Dimensions)\n",
    "* [ ] [<font color=blue>More Plotting and Graphics in Two Dimensions</font>](#more-plotting-and-graphics-in-two-dimensions)"
   ]
  },
  {
   "cell_type": "markdown",
   "metadata": {},
   "source": [
    "## New Experiment — Sum of Squares <a class=\"anchor\" id=\"new-experiment-sum-of-squares\"></a>\n",
    "\n",
    "I hope you had a wonderful time during the holiday break. In today's lecture, we will revisit the problem on sum of squares of integers, which we began to explore just before the holiday break. The problems is as follows: \n",
    "\n",
    "Question: Given that $a$ and $b$ are integers, what integers $n$ can be written in the form $n=a^2+b^2$?\n",
    "\n",
    "Here are a cases that do and do not work.\n",
    "\n",
    "   * $2 = 1^2+1^2$ works;\n",
    "   * $3$ does not work, since we only allow integers.  $1+1$ is too small, $1^2+2^2=5$ is too big;\n",
    "   * $4$ actually <em>does</em> work, because we allow $4 = 0^2+2^2$.  (That's just one of our rules; you could play a different game if you wanted.);\n",
    "   * That means $1=1^2+0^2$ works.\n",
    "   * $5$ works.\n",
    "\n",
    "And so forth. In our last lecture, we were able to pose the following questions relating to the sum of squares: \n",
    "\n",
    "   * Which positive integers can be written as a sum of two squares?\n",
    "   * Which ones cannot?\n",
    "   * Which positive integers can be written as a sum of squares of it factors?\n",
    "   * Can there be a formula for expressing $n$ as the sum of two positive square numbers? \n",
    "   * Which numbers can be written as a sum of squares of 2 prime numbers?\n",
    "   * These numbers that can be written as a sum of two squares, are they odd or even? \n",
    "   * Is the sum of squares even or odd?\n",
    "   * Given $a$ and $b$ are prime, is the sum of their squares, $a^{2}+b^{2}$ prime?\n",
    "   * Can the square roots of numbers be written in any other form aside from $x^{2} + 0^{2}$? \n",
    "   * Is there more than one way to get the $n$, and if they is, what's the relationship between the $a$, $b$ and $n$.\n",
    "   \n",
    "\n",
    "In our last lecture, we started by first tried working with pens and paper. We tried by listing those positive integers $n$ ranging from $1$ to $50$ that can be written as a sum of squares and those that can not be written.  \n",
    "\n",
    "What possible *Python* buitin data structure(s) do you think will be best in storing the numbers that can be written?"
   ]
  },
  {
   "cell_type": "code",
   "execution_count": null,
   "metadata": {},
   "outputs": [],
   "source": [
    "my_list_database = [0, 1, 2, 4, 5]"
   ]
  },
  {
   "cell_type": "markdown",
   "metadata": {},
   "source": [
    "What if, in addition to the possible positive integers that can we can write as the sum of two squares, we also want to know the number of ways that they can be written. What *Python* builtin data structure(s) do you think will be suitable in this case?  \n",
    "\n",
    "Let us create a database of some of the numbers that can be written starting with those that we tried with pens and paper."
   ]
  },
  {
   "cell_type": "code",
   "execution_count": null,
   "metadata": {},
   "outputs": [],
   "source": [
    "number_of_ways = [1, 2, 1, 2, 2]"
   ]
  },
  {
   "cell_type": "code",
   "execution_count": null,
   "metadata": {},
   "outputs": [],
   "source": [
    "possible_database = list(zip(my_list_database, number_of_ways)); possible_database"
   ]
  },
  {
   "cell_type": "markdown",
   "metadata": {},
   "source": [
    "A more effective way is to use Python's dictionary data structure. If that is the case, then we could also have passed the Python variable `possible_database` to Python's `dict` function create dictionary object. That is,"
   ]
  },
  {
   "cell_type": "code",
   "execution_count": null,
   "metadata": {},
   "outputs": [],
   "source": [
    "dict(possible_database)"
   ]
  },
  {
   "cell_type": "markdown",
   "metadata": {},
   "source": [
    "Or we could also start everything with a dictionary and type in the data we want to collect. "
   ]
  },
  {
   "cell_type": "code",
   "execution_count": null,
   "metadata": {},
   "outputs": [],
   "source": [
    "sum_of_square_database = {0: [(0,0)], 1: [(1,0), (0,1)], 2:[(1,1)]}; sum_of_square_database"
   ]
  },
  {
   "cell_type": "markdown",
   "metadata": {},
   "source": [
    "We can update the dictionary object assigned to the Python variable `sum_of_square_database` as follows:"
   ]
  },
  {
   "cell_type": "code",
   "execution_count": null,
   "metadata": {},
   "outputs": [],
   "source": [
    "sum_of_square_database[4] = [(0,2), (2, 0)]"
   ]
  },
  {
   "cell_type": "code",
   "execution_count": null,
   "metadata": {},
   "outputs": [],
   "source": [
    "sum_of_square_database"
   ]
  },
  {
   "cell_type": "code",
   "execution_count": null,
   "metadata": {},
   "outputs": [],
   "source": [
    "sum_of_square_database[5] = [(1,2), (2, 1)]"
   ]
  },
  {
   "cell_type": "code",
   "execution_count": null,
   "metadata": {},
   "outputs": [],
   "source": [
    "sum_of_square_database"
   ]
  },
  {
   "cell_type": "code",
   "execution_count": null,
   "metadata": {},
   "outputs": [],
   "source": []
  },
  {
   "cell_type": "markdown",
   "metadata": {},
   "source": [
    "After a while you will want to think of an effective way of doing this by using some *Python* programming construct? What could be your possible effective solution? "
   ]
  },
  {
   "cell_type": "code",
   "execution_count": null,
   "metadata": {},
   "outputs": [],
   "source": [
    "sum_of_square_database = {}\n",
    "for a in range(20):\n",
    "    for b in range(20):\n",
    "        m = a^2 + b^2\n",
    "        "
   ]
  },
  {
   "cell_type": "code",
   "execution_count": null,
   "metadata": {},
   "outputs": [],
   "source": []
  },
  {
   "cell_type": "code",
   "execution_count": null,
   "metadata": {},
   "outputs": [],
   "source": []
  },
  {
   "cell_type": "code",
   "execution_count": null,
   "metadata": {},
   "outputs": [],
   "source": []
  },
  {
   "cell_type": "code",
   "execution_count": null,
   "metadata": {},
   "outputs": [],
   "source": []
  },
  {
   "cell_type": "markdown",
   "metadata": {},
   "source": [
    "Hopefully, by now you should have a fair amount of data in `sum_of_square_database`. Let us now begin exploring the questions we posed regarding the sum of two squares by querying the database we have created. Here are the list of questions we posed: \n",
    "\n",
    "   * Which positive integers can be written as a sum of two squares?\n",
    "   * Which ones cannot?\n",
    "   * Which positive integers can be written as a sum of squares of their factors?\n",
    "   * Can there be a formula for expressing $n$ as the sum of two positive square numbers? \n",
    "   * Which numbers can be written as a sum of squares of 2 prime numbers?\n",
    "   * These numbers that can be written as a sum of two squares, are they odd or even? \n",
    "   * Given $a$ and $b$ are prime, is the sum of their squares, $a^{2}+b^{2}$ prime?\n",
    "   * Can the square roots of numbers be written in any other form aside from $x^{2} + 0^{2}$? \n",
    "   * Is there more than one way to get the $n$, and if they is, what's the relationship between the $a$, $b$ and $n$.\n",
    "<hr>\n",
    "\n",
    "We also possed the following: \n",
    "\n",
    "   * Are there any special types of numbers that can be written?  (Or that cannot?)\n",
    "      * Primes\n",
    "      * even/odd, modulo 3, modulo 4, modulo 5, etc..\n",
    "      * A combination of the above\n",
    "\n",
    "\n"
   ]
  },
  {
   "cell_type": "markdown",
   "metadata": {},
   "source": [
    "### Exploring Questions <a class=\"anchor\" id=\"exploring-questions\"></a>\n",
    "\n",
    "The goal of this subsection is answer the first three questions that we possed concerning the sum of squares problems. You will learn what it means to query the database we have created. Let us begin with the first question. "
   ]
  },
  {
   "cell_type": "markdown",
   "metadata": {},
   "source": [
    "#### Exploration 1 <a class=\"anchor\" id=\"exploration-1\"></a>\n",
    "\n",
    "The question to explore is: \n",
    "\n",
    " * _Which positive integers can be written as a sum of two integer squares?_\n",
    "\n",
    "What will be a possible answer to this?"
   ]
  },
  {
   "cell_type": "code",
   "execution_count": 80,
   "metadata": {},
   "outputs": [
    {
     "data": {
      "text/plain": [
       "{}"
      ]
     },
     "execution_count": 80,
     "metadata": {},
     "output_type": "execute_result"
    }
   ],
   "source": [
    "sum_of_square_database"
   ]
  },
  {
   "cell_type": "code",
   "execution_count": 83,
   "metadata": {},
   "outputs": [
    {
     "name": "stdout",
     "output_type": "stream",
     "text": [
      "keys: dict_keys([2, 5, 8, 10, 13, 17, 18, 20, 25, 26, 29, 32, 34, 37, 40, 41, 45, 50, 52, 53, 58, 61, 65, 68, 72, 73, 74, 80, 82, 85, 89, 90, 97, 98, 100])\n"
     ]
    }
   ],
   "source": [
    "import math as m\n",
    "L1 = []\n",
    "for i in range(1,11):\n",
    "    perfect_square = i*i\n",
    "    L1.append(perfect_square)\n",
    "#print(L1)\n",
    "dicti = {}\n",
    "n = 1\n",
    "L2 = []\n",
    "while n <= 100:\n",
    "    for i in L1:\n",
    "        if i < n:\n",
    "            L2.append(i)\n",
    "    for a in L2:\n",
    "        for b in L2:\n",
    "            if (a+b) == n:\n",
    "                dicti[n] = (a,b)\n",
    "                \n",
    "    L2 = []\n",
    "    n += 1\n",
    "#print(dict)\n",
    "keys = dicti.keys()\n",
    "values = dicti.values()\n",
    "print(\"keys:\", str(keys))\n",
    "#print(\"values:\", str(values))\n",
    "#print(*dict) # keys\n",
    "\n",
    "#L1 = [i for i in keys]\n",
    "#L2 = [j for j in values]\n",
    "#print(L1)\n",
    "\n",
    "#print(L3)\n",
    "\n",
    "#print(list(divisors(L1[0])))\n",
    "#list(divisors(L2))\n",
    "\n",
    "#print('list_keys',L1,\"    \\n\",'list_values',L2)\n",
    "#print(list(L2[0]))"
   ]
  },
  {
   "cell_type": "markdown",
   "metadata": {},
   "source": [
    "That seems to answer the question. However, I think there is more we can ask here. For example, Is there more to explore about these numbers? Is there anything common with them or a subset of them? What do you think we can do?  \n",
    "\n",
    "We may come back to this later."
   ]
  },
  {
   "cell_type": "markdown",
   "metadata": {},
   "source": [
    "The ies no clear pattern. We can only get a subset of the perfect squares."
   ]
  },
  {
   "cell_type": "markdown",
   "metadata": {},
   "source": [
    "#### Exploration 2 <a class=\"anchor\" id=\"exploration-2\"></a>\n",
    "\n",
    "The question to explore is: \n",
    "\n",
    " * _Which positive numbers cannot be written as a sum of two integer squares?_\n",
    "\n",
    "What will be a possible answer to this? How would you encode this in Python in order to query the database `sum_of_square_database`?"
   ]
  },
  {
   "cell_type": "code",
   "execution_count": 87,
   "metadata": {},
   "outputs": [
    {
     "name": "stdout",
     "output_type": "stream",
     "text": [
      "[1, 3, 4, 6, 7, 9, 11, 12, 14, 15, 16, 19, 21, 22, 23, 24, 27, 28, 30, 31, 33, 35, 36, 38, 39, 42, 43, 44, 46, 47, 48, 49, 51, 54, 55, 56, 57, 59, 60, 62, 63, 64, 66, 67, 69, 70, 71, 75, 76, 77, 78, 79, 81, 83, 84, 86, 87, 88, 91, 92, 93, 94, 95, 96, 99]\n"
     ]
    }
   ],
   "source": [
    "List2 =[]\n",
    "\n",
    "for i in range(1,100):\n",
    "    if i not in dicti:\n",
    "        List2.append(i)\n",
    "print(List2)"
   ]
  },
  {
   "cell_type": "code",
   "execution_count": null,
   "metadata": {},
   "outputs": [],
   "source": []
  },
  {
   "cell_type": "code",
   "execution_count": null,
   "metadata": {},
   "outputs": [],
   "source": []
  },
  {
   "cell_type": "code",
   "execution_count": null,
   "metadata": {},
   "outputs": [],
   "source": [
    "\n"
   ]
  },
  {
   "cell_type": "markdown",
   "metadata": {},
   "source": [
    "Is there more to explore about these numbers? Is there anything common with them or a subset of them? What do you think we can do? \n",
    "\n",
    "We may come back to this later."
   ]
  },
  {
   "cell_type": "code",
   "execution_count": null,
   "metadata": {},
   "outputs": [],
   "source": []
  },
  {
   "cell_type": "markdown",
   "metadata": {},
   "source": [
    "#### Exploration 3 <a class=\"anchor\" id=\"exploration-3\"></a>\n",
    "\n",
    "The question to explore is: \n",
    "\n",
    " * _Which positive integers can be written as a sum of two integer squares of it factors?_\n",
    "\n",
    "In other words, among those positive integers $n$ can be written as $n = a^{2} + b^{2}$ with $a$ and $b$ as integers, which them are factors of $n$. That is, $a$ and $b$ both divides $n$.\n",
    "\n",
    "\n",
    "What will be a possible answer to this? How would you encode this in Python in order to query the database `sum_of_square_database`?"
   ]
  },
  {
   "cell_type": "markdown",
   "metadata": {},
   "source": [
    "We have so many, but I will mention a few, $2,8,18,20$. The code below show more."
   ]
  },
  {
   "cell_type": "code",
   "execution_count": null,
   "metadata": {},
   "outputs": [],
   "source": []
  },
  {
   "cell_type": "code",
   "execution_count": 76,
   "metadata": {},
   "outputs": [
    {
     "name": "stdout",
     "output_type": "stream",
     "text": [
      "n=100\n",
      "{2: [(1, 1)], 8: [(2, 2)], 18: [(3, 3)], 20: [(2, 4), (4, 2)], 32: [(4, 4)], 50: [(5, 5)], 72: [(6, 6)], 80: [(4, 8), (8, 4)], 90: [(3, 9), (9, 3)], 98: [(7, 7)]}\n"
     ]
    }
   ],
   "source": [
    "high_numb = int(input(\"n=\"))\n",
    "\n",
    "\n",
    "dict_factor = {}\n",
    "\n",
    "\n",
    "number = 1\n",
    "\n",
    "\n",
    "while number <= high_numb:\n",
    "    \n",
    "    empty_list = []\n",
    "    for x in range(1,number+1):\n",
    "        for y in range(1,number+1):\n",
    "            if number == (x**2) + (y**2):\n",
    "                try:\n",
    "                    if number % x == 0 and number % y == 0:\n",
    "                        empty_list.append((x,y))\n",
    "                        dict_factor[number] = empty_list\n",
    "                except:\n",
    "                    print(\"0 is not a factor\",number)\n",
    "                    \n",
    "    number += 1\n",
    "print(dict_factor)"
   ]
  },
  {
   "cell_type": "code",
   "execution_count": null,
   "metadata": {},
   "outputs": [],
   "source": []
  },
  {
   "cell_type": "markdown",
   "metadata": {},
   "source": [
    "#### Exploration 4 <a class=\"anchor\" id=\"exploration-4\"></a>\n",
    "\n",
    "The question to explore is: \n",
    "\n",
    " * _Can there be a formula for expressing $n$ as the sum of two positive square numbers?_\n",
    "\n",
    "You may want to skip this for now."
   ]
  },
  {
   "cell_type": "markdown",
   "metadata": {},
   "source": [
    "\n",
    "Yes, which is $n = a^2 + b^2$."
   ]
  },
  {
   "cell_type": "markdown",
   "metadata": {},
   "source": [
    "#### Exploration 5 <a class=\"anchor\" id=\"exploration-5\"></a>\n",
    "\n",
    "The question to explore is: \n",
    "\n",
    " * _These numbers that can be written as a sum of two squares, are they odd or even?_"
   ]
  },
  {
   "cell_type": "markdown",
   "metadata": {},
   "source": [
    "\n",
    "The numbers are either even or odd, since we do not have any clear pattern. We can only show a  few exapmles,\n",
    "\n",
    "$1^2 + 1^2 = 2$, $1^2 + 2^2 = 5$, $2^2 + 2^2 = 8$ and $3^2 + 2^2 = 13$.\n"
   ]
  },
  {
   "cell_type": "code",
   "execution_count": null,
   "metadata": {},
   "outputs": [],
   "source": [
    "numb = 1\n",
    "high_limit = 100\n",
    "\n",
    "trial_dict = {}\n",
    "dict_num ={}\n",
    "dict_prime = {}\n",
    "\n",
    "\n",
    "i = 0\n",
    "new_List = []\n",
    "while numb<= high_limit:\n",
    "    List = []\n",
    "    new_List = []\n",
    "    for x in range(0,high_limit+1):\n",
    "        for y in range(0,high_limit+1):\n",
    "            if (x*x + y*y)==numb:\n",
    "                store = (x,y)\n",
    "                List.append(store)\n",
    "                trial_dict[str(numb)] = List\n",
    "                if numb%2 == 0:\n",
    "                    dict_num[str(numb)] = \"even\"\n",
    "                elif numb%2 == 1:\n",
    "                    dict_num[str(numb)] = \"odd\"\n",
    "                if is_prime(x) and is_prime(y):\n",
    "                    prime = (x,y)\n",
    "                    new_List.append(prime)\n",
    "                    dict_prime[str(numb)] = new_List\n",
    "\n",
    "                \n",
    "    numb += 1\n",
    "    \n",
    "print(trial_dict)\n",
    "print(dict_num)\n",
    "print(dict_prime)"
   ]
  },
  {
   "cell_type": "markdown",
   "metadata": {},
   "source": [
    "#### Exploration 6 <a class=\"anchor\" id=\"exploration-6\"></a> \n",
    "\n",
    "The question to explore is: \n",
    "\n",
    " * _Given $a$ and $b$ are prime, is the sum of their squares, $a^{2}+b^{2}$ prime?_\n",
    " \n",
    "_Hint: You may want to use the SageMath function `is_prime`. Try and read the documentation so you know how to use it._"
   ]
  },
  {
   "cell_type": "markdown",
   "metadata": {},
   "source": [
    "\n",
    "I have created a code that generates these numbers, but I will mention a few, $2^2 + 3^2 = 13$, $2^2 + 5^2 = 29$, $3^2 + 5^2 = 34$ and $5^2 + 7^2 = 74$."
   ]
  },
  {
   "cell_type": "code",
   "execution_count": 75,
   "metadata": {},
   "outputs": [
    {
     "name": "stdout",
     "output_type": "stream",
     "text": [
      "{2: [8, 13, 29, 53, 125, 173, 293, 365, 533, 845, 965, 1373, 1685, 1853, 2213, 2813, 3485, 3725, 4493, 5045, 5333, 6245, 6893, 7925, 9413], 3: [13, 18, 34, 58, 130, 178, 298, 370, 538, 850, 970, 1378, 1690, 1858, 2218, 2818, 3490, 3730, 4498, 5050, 5338, 6250, 6898, 7930, 9418], 5: [29, 34, 50, 74, 146, 194, 314, 386, 554, 866, 986, 1394, 1706, 1874, 2234, 2834, 3506, 3746, 4514, 5066, 5354, 6266, 6914, 7946, 9434], 7: [53, 58, 74, 98, 170, 218, 338, 410, 578, 890, 1010, 1418, 1730, 1898, 2258, 2858, 3530, 3770, 4538, 5090, 5378, 6290, 6938, 7970, 9458], 11: [125, 130, 146, 170, 242, 290, 410, 482, 650, 962, 1082, 1490, 1802, 1970, 2330, 2930, 3602, 3842, 4610, 5162, 5450, 6362, 7010, 8042, 9530], 13: [173, 178, 194, 218, 290, 338, 458, 530, 698, 1010, 1130, 1538, 1850, 2018, 2378, 2978, 3650, 3890, 4658, 5210, 5498, 6410, 7058, 8090, 9578], 17: [293, 298, 314, 338, 410, 458, 578, 650, 818, 1130, 1250, 1658, 1970, 2138, 2498, 3098, 3770, 4010, 4778, 5330, 5618, 6530, 7178, 8210, 9698], 19: [365, 370, 386, 410, 482, 530, 650, 722, 890, 1202, 1322, 1730, 2042, 2210, 2570, 3170, 3842, 4082, 4850, 5402, 5690, 6602, 7250, 8282, 9770], 23: [533, 538, 554, 578, 650, 698, 818, 890, 1058, 1370, 1490, 1898, 2210, 2378, 2738, 3338, 4010, 4250, 5018, 5570, 5858, 6770, 7418, 8450, 9938], 29: [845, 850, 866, 890, 962, 1010, 1130, 1202, 1370, 1682, 1802, 2210, 2522, 2690, 3050, 3650, 4322, 4562, 5330, 5882, 6170, 7082, 7730, 8762, 10250], 31: [965, 970, 986, 1010, 1082, 1130, 1250, 1322, 1490, 1802, 1922, 2330, 2642, 2810, 3170, 3770, 4442, 4682, 5450, 6002, 6290, 7202, 7850, 8882, 10370], 37: [1373, 1378, 1394, 1418, 1490, 1538, 1658, 1730, 1898, 2210, 2330, 2738, 3050, 3218, 3578, 4178, 4850, 5090, 5858, 6410, 6698, 7610, 8258, 9290, 10778], 41: [1685, 1690, 1706, 1730, 1802, 1850, 1970, 2042, 2210, 2522, 2642, 3050, 3362, 3530, 3890, 4490, 5162, 5402, 6170, 6722, 7010, 7922, 8570, 9602, 11090], 43: [1853, 1858, 1874, 1898, 1970, 2018, 2138, 2210, 2378, 2690, 2810, 3218, 3530, 3698, 4058, 4658, 5330, 5570, 6338, 6890, 7178, 8090, 8738, 9770, 11258], 47: [2213, 2218, 2234, 2258, 2330, 2378, 2498, 2570, 2738, 3050, 3170, 3578, 3890, 4058, 4418, 5018, 5690, 5930, 6698, 7250, 7538, 8450, 9098, 10130, 11618], 53: [2813, 2818, 2834, 2858, 2930, 2978, 3098, 3170, 3338, 3650, 3770, 4178, 4490, 4658, 5018, 5618, 6290, 6530, 7298, 7850, 8138, 9050, 9698, 10730, 12218], 59: [3485, 3490, 3506, 3530, 3602, 3650, 3770, 3842, 4010, 4322, 4442, 4850, 5162, 5330, 5690, 6290, 6962, 7202, 7970, 8522, 8810, 9722, 10370, 11402, 12890], 61: [3725, 3730, 3746, 3770, 3842, 3890, 4010, 4082, 4250, 4562, 4682, 5090, 5402, 5570, 5930, 6530, 7202, 7442, 8210, 8762, 9050, 9962, 10610, 11642, 13130], 67: [4493, 4498, 4514, 4538, 4610, 4658, 4778, 4850, 5018, 5330, 5450, 5858, 6170, 6338, 6698, 7298, 7970, 8210, 8978, 9530, 9818, 10730, 11378, 12410, 13898], 71: [5045, 5050, 5066, 5090, 5162, 5210, 5330, 5402, 5570, 5882, 6002, 6410, 6722, 6890, 7250, 7850, 8522, 8762, 9530, 10082, 10370, 11282, 11930, 12962, 14450], 73: [5333, 5338, 5354, 5378, 5450, 5498, 5618, 5690, 5858, 6170, 6290, 6698, 7010, 7178, 7538, 8138, 8810, 9050, 9818, 10370, 10658, 11570, 12218, 13250, 14738], 79: [6245, 6250, 6266, 6290, 6362, 6410, 6530, 6602, 6770, 7082, 7202, 7610, 7922, 8090, 8450, 9050, 9722, 9962, 10730, 11282, 11570, 12482, 13130, 14162, 15650], 83: [6893, 6898, 6914, 6938, 7010, 7058, 7178, 7250, 7418, 7730, 7850, 8258, 8570, 8738, 9098, 9698, 10370, 10610, 11378, 11930, 12218, 13130, 13778, 14810, 16298], 89: [7925, 7930, 7946, 7970, 8042, 8090, 8210, 8282, 8450, 8762, 8882, 9290, 9602, 9770, 10130, 10730, 11402, 11642, 12410, 12962, 13250, 14162, 14810, 15842, 17330], 97: [9413, 9418, 9434, 9458, 9530, 9578, 9698, 9770, 9938, 10250, 10370, 10778, 11090, 11258, 11618, 12218, 12890, 13130, 13898, 14450, 14738, 15650, 16298, 17330, 18818]}\n"
     ]
    }
   ],
   "source": [
    "dict = {}\n",
    "\n",
    "for i in range(100):\n",
    "    L1 = []\n",
    "    for j in range(100):\n",
    "        if  is_prime(i) and is_prime(j):\n",
    "            n = i**2 + j**2\n",
    "            L1.append(n)\n",
    "            dict[i] = L1\n",
    "        else:\n",
    "            continue\n",
    "print(dict)"
   ]
  },
  {
   "cell_type": "markdown",
   "metadata": {},
   "source": [
    "#### Exploration 7 <a class=\"anchor\" id=\"exploration-7\"></a> \n",
    "\n",
    "The question to explore is: \n",
    "\n",
    " * _Can the square roots of numbers be written in any other form aside from $x^{2} + 0^{2}$?_\n",
    " \n",
    "In other words, if $n$ is a square, i.e., $\\exists\\, x\\in\\mathbb{Z}$ with $n = x^{2}$, then are there **positive integers** $a, b$ such that $n = a^{2} + b^{2}$?"
   ]
  },
  {
   "cell_type": "markdown",
   "metadata": {},
   "source": [
    "Yes, the square root of numbers can be written in any other form aside from $x^2 + 0^2$. For instance $100 = 8^2 + 6^2$ and $=10^2 +0^2$.\n"
   ]
  },
  {
   "cell_type": "code",
   "execution_count": null,
   "metadata": {},
   "outputs": [],
   "source": [
    "numb = 1\n",
    "high_limit = 100\n",
    "\n",
    "trial_dict = {}\n",
    "dict_num ={}\n",
    "dict_prime = {}\n",
    "\n",
    "\n",
    "i = 0\n",
    "new_List = []\n",
    "while numb<= high_limit:\n",
    "    List = []\n",
    "    new_List = []\n",
    "    for x in range(0,high_limit+1):\n",
    "        for y in range(0,high_limit+1):\n",
    "            if (x*x + y*y)==numb:\n",
    "                store = (x,y)\n",
    "                List.append(store)\n",
    "                trial_dict[str(numb)] = List\n",
    "                if numb%2 == 0:\n",
    "                    dict_num[str(numb)] = \"even\"\n",
    "                elif numb%2 == 1:\n",
    "                    dict_num[str(numb)] = \"odd\"\n",
    "                if is_prime(x) and is_prime(y):\n",
    "                    prime = (x,y)\n",
    "                    new_List.append(prime)\n",
    "                    dict_prime[str(numb)] = new_List\n",
    "\n",
    "                \n",
    "    numb += 1\n",
    "    \n",
    "print(trial_dict)\n",
    "print(dict_num)\n",
    "print(dict_prime)"
   ]
  },
  {
   "cell_type": "markdown",
   "metadata": {},
   "source": [
    "#### Exploration 8 <a class=\"anchor\" id=\"exploration-8\"></a> \n",
    "\n",
    "The question to explore is: \n",
    "\n",
    " * _Is there more than one way to write a positive integer $n$ as the sum of two integer squares $a^{2} + b^{2}$, and if they is, what's the relationship between $n$, $a$ and $b$?_"
   ]
  },
  {
   "cell_type": "markdown",
   "metadata": {},
   "source": [
    "\n",
    "\n",
    "We can express $n$ using the lattice points on a circle,where a and b are the lattice points on the circle, where n is the radius squared.\n",
    "\n"
   ]
  },
  {
   "cell_type": "code",
   "execution_count": null,
   "metadata": {},
   "outputs": [],
   "source": []
  },
  {
   "cell_type": "markdown",
   "metadata": {},
   "source": [
    "#### Exploration 9 <a class=\"anchor\" id=\"exploration-9\"></a> \n",
    "\n",
    "The question to explore is: \n",
    "\n",
    " * _Can prime numbers be written as a sum of two squares and if so, do they follow some underlying pattern?_"
   ]
  },
  {
   "cell_type": "code",
   "execution_count": 79,
   "metadata": {},
   "outputs": [
    {
     "name": "stdout",
     "output_type": "stream",
     "text": [
      "{'8': [(2, 2)], '13': [(2, 3), (3, 2)], '18': [(3, 3)], '29': [(2, 5), (5, 2)], '34': [(3, 5), (5, 3)], '50': [(5, 5)], '53': [(2, 7), (7, 2)], '58': [(3, 7), (7, 3)], '74': [(5, 7), (7, 5)], '98': [(7, 7)]}\n"
     ]
    }
   ],
   "source": [
    "numb = 1\n",
    "high_limit = 100\n",
    "\n",
    "trial_dict = {}\n",
    "dict_num ={}\n",
    "dict_prime = {}\n",
    "\n",
    "\n",
    "i = 0\n",
    "new_List = []\n",
    "while numb<= high_limit:\n",
    "    List = []\n",
    "    new_List = []\n",
    "    for x in range(0,high_limit+1):\n",
    "        for y in range(0,high_limit+1):\n",
    "            if (x*x + y*y)==numb:\n",
    "                store = (x,y)\n",
    "                List.append(store)\n",
    "                trial_dict[str(numb)] = List\n",
    "                if numb%2 == 0:\n",
    "                    dict_num[str(numb)] = \"even\"\n",
    "                elif numb%2 == 1:\n",
    "                    dict_num[str(numb)] = \"odd\"\n",
    "                if is_prime(x) and is_prime(y):\n",
    "                    prime = (x,y)\n",
    "                    new_List.append(prime)\n",
    "                    dict_prime[str(numb)] = new_List\n",
    "\n",
    "                \n",
    "    numb += 1\n",
    "    \n",
    "#print(trial_dict)\n",
    "#print(dict_num)\n",
    "print(dict_prime)"
   ]
  },
  {
   "cell_type": "code",
   "execution_count": null,
   "metadata": {},
   "outputs": [],
   "source": []
  },
  {
   "cell_type": "markdown",
   "metadata": {},
   "source": [
    "### Congruences <a class=\"anchor\" id=\"congruences\"></a> \n",
    "\n",
    "I want to introduce an elementary operation that might be useful in our exploration; namely, modulo arithmetic. You should have seen this before. It has something to do with divisibilty.  \n",
    "\n",
    "To start, let's compute.  What is the remainder of $25$ when divided by $6$?  Do it by hand first."
   ]
  },
  {
   "cell_type": "code",
   "execution_count": null,
   "metadata": {},
   "outputs": [],
   "source": [
    "mod(25, 6)"
   ]
  },
  {
   "cell_type": "markdown",
   "metadata": {},
   "source": [
    "From the division algorithm, we know that such a remainder is unique.  If we divide $x$ by $m$, then $0\\leq {\\rm mod}(x,m)< m$. But lots and lots of different numbers can have the same remainder!"
   ]
  },
  {
   "cell_type": "code",
   "execution_count": null,
   "metadata": {},
   "outputs": [],
   "source": [
    "[mod(num, 6) for num in [1, 7, 13, 19, 25, -5, -11, 6001, -17]]"
   ]
  },
  {
   "cell_type": "markdown",
   "metadata": {},
   "source": [
    "In mathematics, what we often do in such a situation where structure is shared is to connect things with a *relation*.  \n",
    "A relation is a very general notion, and basically it exists once you define it. Our relation will be called **congruence**, denoted by $\\equiv$ and it is massively important. We essentially use the same definitions and notation that Gauss came up with.  \n",
    "\n",
    "\n",
    "**Definition**: We say that $a$ is congruent to $b$ modulo $n$, or $a \\equiv b \\, ({\\rm mod} \\, n)$, precisely if $n\\mid (a−b)$.\n",
    "\n",
    "This is *exactly* the same thing as leaving the same remainder.  It is very useful to try to prove that these conditions are the same.  \n",
    "In our case, saying $25\\equiv 1\\equiv -5$ (mod $6$) is the same as saying $25=4\\cdot 6 +1$ and $1=0\\cdot 6 + 1$ and $-5=-1\\cdot 6+1$.  \n",
    "This idea gives us a *lot* of power.  For instance, calculating $2^{1000000000}$ (mod 3) instantaneous for me - it's $1$.  \n",
    "\n",
    "I can check it with *SageMath*:"
   ]
  },
  {
   "cell_type": "code",
   "execution_count": null,
   "metadata": {},
   "outputs": [],
   "source": [
    "%time mod(2^1000000000,3)"
   ]
  },
  {
   "cell_type": "markdown",
   "metadata": {},
   "source": [
    "Yet I did it instantaneously in my head. Of course, the reason is not that I am clever, but that congruence can be turned into arithmetic! Here are two useful properties:\n",
    "\n",
    "   * If $a\\equiv b$ (mod $m$), then $a+c\\equiv b+c$ (mod $m$).\n",
    "   * If $a\\equiv b$ (mod $m$), then $ac\\equiv bc$ (mod $m$).\n",
    "\n",
    "Now I reveal my secret: $2\\equiv -1$ (mod 3), and $(-1)^{1000000000}=1$, like all even powers of negative one.  Ta-dah!  \n",
    "\n",
    "What I've done is *first* think of the original number as in the congruence, and then taken its power. *SageMath* verifies this approach is much faster, and even for much bigger powers:"
   ]
  },
  {
   "cell_type": "code",
   "execution_count": null,
   "metadata": {},
   "outputs": [],
   "source": [
    "b = mod(2,3); b"
   ]
  },
  {
   "cell_type": "code",
   "execution_count": null,
   "metadata": {},
   "outputs": [],
   "source": [
    "print(type(b))"
   ]
  },
  {
   "cell_type": "code",
   "execution_count": null,
   "metadata": {},
   "outputs": [],
   "source": [
    "%time b^1000000000000000000000000000000"
   ]
  },
  {
   "cell_type": "markdown",
   "metadata": {},
   "source": [
    "What was computed above is not a trick; I definitely couldn't do $2000^{1000}$, or even $16^{1000}$, in my head.  \n",
    "There is another set of properties that congruence has. Congruence is *reflexive, symmetric, and transitive*. That is, all the things you know are true about equality are also true about congruence (with a particular modulus $n$ picked, of course).\n",
    "\n",
    "   * For any $a\\in \\mathbb{Z}$, $a\\equiv a$ (mod $n$).\n",
    "   * If $a\\equiv b$ mod ($n$), then $b\\equiv a$ (mod $n$). \n",
    "   * If it happens that <em>both</em> $a\\equiv b$ and $b\\equiv c$ (mod $n$), then $a\\equiv c$ (mod $n$) as well.\n",
    "   \n",
    "If we combine all of these facts, it basically means we can divide up all the integers into \"**equivalence classes**\". That is, $\\mathbb{Z}$ can be broken up into disjoint pieces which we are free to consider as units, and which stay different.  \n",
    "\n",
    "We denote such a class by the notation \n",
    "\n",
    "$$[a]=\\{\\text{all numbers congruent to }a\\text{ modulo }n\\}\\; .$$  \n",
    "\n",
    "So, for instance, the equivalence class we started with is \n",
    "\n",
    "$$[1]=\\{1, 7, 13, 19, 25, -5, -11, 6001,\\ldots\\}$$ or perhaps better written as $$\\{1+6n\\mid n\\in\\mathbb{Z}\\}=[1]\\; .$$  \n",
    "\n",
    "**Definition**: We call the set of equivalence classes modulo $n$ the *integers modulo n*, and denote them by $\\mathbb{Z}_n$."
   ]
  },
  {
   "cell_type": "code",
   "execution_count": null,
   "metadata": {},
   "outputs": [],
   "source": [
    "%time mod(2^3000000000,7)"
   ]
  },
  {
   "cell_type": "code",
   "execution_count": null,
   "metadata": {},
   "outputs": [],
   "source": [
    "%time mod(2,7)^3000000000"
   ]
  },
  {
   "cell_type": "markdown",
   "metadata": {},
   "source": [
    "I knew this one too.  Figure out why with your group members. \n",
    "\n",
    "* Then spend a while making up more examples of this.</li>\n",
    "* Or, try to figure out how I know that $123456$ is divisible by $3$ but not divisible by $9$, using congruences."
   ]
  },
  {
   "cell_type": "markdown",
   "metadata": {},
   "source": [
    "Now let us use the concept of modulo arithmetic in our exploration. In your groups, try to come up with more questions which uses the modulo operation and explore together. Try and record your findings. \n",
    "\n",
    "Before you query the database `sum_of_square_database` with the questions you have possed as a group, take a look at [Exploration 10](#exploration-10), where I possed a question that makes use of the modulo operation. Explore this a group and record your findings. Afterwards, you should explore the questions that you came up with. Again remember to record your findings."
   ]
  },
  {
   "cell_type": "code",
   "execution_count": null,
   "metadata": {},
   "outputs": [],
   "source": []
  },
  {
   "cell_type": "markdown",
   "metadata": {},
   "source": [
    "#### Exploration 10 <a class=\"anchor\" id=\"exploration-10\"></a> \n",
    "\n",
    "The question to explore is: \n",
    "\n",
    " * _Can even/odd numbers modulo 3, modulo 4, modulo 5, etc., be written as a sum of two squares and if so, do they follow some underlying pattern?_"
   ]
  },
  {
   "cell_type": "code",
   "execution_count": null,
   "metadata": {},
   "outputs": [],
   "source": []
  },
  {
   "cell_type": "code",
   "execution_count": null,
   "metadata": {},
   "outputs": [],
   "source": []
  },
  {
   "cell_type": "code",
   "execution_count": null,
   "metadata": {},
   "outputs": [],
   "source": []
  },
  {
   "cell_type": "code",
   "execution_count": null,
   "metadata": {},
   "outputs": [],
   "source": []
  },
  {
   "cell_type": "code",
   "execution_count": null,
   "metadata": {},
   "outputs": [],
   "source": []
  },
  {
   "cell_type": "code",
   "execution_count": null,
   "metadata": {},
   "outputs": [],
   "source": []
  },
  {
   "cell_type": "code",
   "execution_count": null,
   "metadata": {},
   "outputs": [],
   "source": []
  },
  {
   "cell_type": "code",
   "execution_count": null,
   "metadata": {},
   "outputs": [],
   "source": []
  },
  {
   "cell_type": "code",
   "execution_count": null,
   "metadata": {},
   "outputs": [],
   "source": []
  },
  {
   "cell_type": "code",
   "execution_count": null,
   "metadata": {},
   "outputs": [],
   "source": []
  },
  {
   "cell_type": "code",
   "execution_count": null,
   "metadata": {},
   "outputs": [],
   "source": []
  },
  {
   "cell_type": "markdown",
   "metadata": {},
   "source": []
  },
  {
   "cell_type": "markdown",
   "metadata": {},
   "source": [
    "Can you think of a way to solve this problem? _Hint: What do you know about equations of this form $n = a^{2} + b ^{2}$?_"
   ]
  },
  {
   "cell_type": "code",
   "execution_count": 2,
   "metadata": {},
   "outputs": [
    {
     "name": "stderr",
     "output_type": "stream",
     "text": [
      "/usr/lib/python3/dist-packages/matplotlib/__init__.py:169: DeprecationWarning: distutils Version classes are deprecated. Use packaging.version instead.\n",
      "  if LooseVersion(module.__version__) < minver:\n",
      "/usr/local/lib/python3.9/dist-packages/setuptools/_distutils/version.py:351: DeprecationWarning: distutils Version classes are deprecated. Use packaging.version instead.\n",
      "  other = LooseVersion(other)\n"
     ]
    },
    {
     "data": {
      "image/png": "[encoded data removed]",
      "text/plain": [
       "Graphics object consisting of 2 graphics primitives"
      ]
     },
     "execution_count": 2,
     "metadata": {},
     "output_type": "execute_result"
    }
   ],
   "source": [
    "var('y')\n",
    "n = 25\n",
    "P = implicit_plot( x^2 + y^2 == n, (x, -sqrt(n), sqrt(n)), (y, -sqrt(n), sqrt(n)) )\n",
    "lattice_pts = [ [i,j] for i in [floor(-sqrt(n))..ceil(sqrt(n))] for j in [floor(-sqrt(n))..ceil(sqrt(n))] ]\n",
    "plot_lattice_pts = points(lattice_pts, rgbcolor = (0, 0, 0), pointsize = 10)\n",
    "P + plot_lattice_pts"
   ]
  },
  {
   "cell_type": "markdown",
   "metadata": {},
   "source": [
    "This brings up the question of how to do such plotting in the first place? We will look at this in more detail in the next [**Section**](#more-plotting-and-graphics-in-two-dimensions)."
   ]
  },
  {
   "cell_type": "markdown",
   "metadata": {},
   "source": [
    "## More Plotting and Graphics in Two Dimensions <a class = \"anchor\" id = \"more-plotting-and-graphics-in-two-dimensions\"></a>\n",
    "There is absolutely no way we could cover all the graphics in _SageMath_ (or the program that does it for _SageMath_, <a href=\"http://matplotlib.org/\" target=\"_blank\">matplotlib</a>) in one day, or even a week. We will look at a bunch of different resources you have access to, and see lots of different plot types. As we go through these resources, think of how they will be of in solving our new experiment or where you could have used them some time back in your academic career. I definitely do not know everything about the plotting command. Nevertheless, you may interrupt me with your question so that we can explore the solution together. \n",
    "\n",
    "   * We will begin with the [advanced 2D-plotting](http://localhost:8891/kernelspecs/sagemath/doc/prep/Advanced-2DPlotting.html) in the built-in live documentation. (This link only works if you are already using _SageMath_; the [non-live version is here](http://www.sagemath.org/doc/prep/Advanced-2DPlotting.html).\n",
    "   * There are two very important pages with many, MANY examples - the documentation for [plot](http://www.sagemath.org/doc/reference/plotting/sage/plot/plot.html) and that for [showing graphics](http://www.sagemath.org/doc/reference/plotting/sage/plot/graphics.html#sage.plot.graphics.Graphics.show).\n",
    "   * The [general plotting reference](http://www.sagemath.org/doc/reference/plotting/index.html) - there are a lot of surprises, like animation, etc.\n",
    "\n",
    "Remember, you should feel free to stop listening for a while if you can want to try something out!  \n",
    "Once we've seen enough examples, please either start using _SageMath_ to explore the sums of squares, _or_ try to recreate your favorite graphic using _SageMath_!"
   ]
  }
 ],
 "metadata": {
  "kernelspec": {
   "display_name": "SageMath 9.2",
   "language": "sage",
   "name": "sagemath"
  },
  "language_info": {
   "codemirror_mode": {
    "name": "ipython",
    "version": 3
   },
   "file_extension": ".py",
   "mimetype": "text/x-python",
   "name": "python",
   "nbconvert_exporter": "python",
   "pygments_lexer": "ipython3",
   "version": "3.9.2"
  },
  "varInspector": {
   "cols": {
    "lenName": 16,
    "lenType": 16,
    "lenVar": 40
   },
   "kernels_config": {
    "python": {
     "delete_cmd_postfix": "",
     "delete_cmd_prefix": "del ",
     "library": "var_list.py",
     "varRefreshCmd": "print(var_dic_list())"
    },
    "r": {
     "delete_cmd_postfix": ") ",
     "delete_cmd_prefix": "rm(",
     "library": "var_list.r",
     "varRefreshCmd": "cat(var_dic_list()) "
    }
   },
   "types_to_exclude": [
    "module",
    "function",
    "builtin_function_or_method",
    "instance",
    "_Feature"
   ],
   "window_display": false
  }
 },
 "nbformat": 4,
 "nbformat_minor": 4
}
